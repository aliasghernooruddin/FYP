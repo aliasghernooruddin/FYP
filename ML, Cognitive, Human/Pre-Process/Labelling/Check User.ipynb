{
 "cells": [
  {
   "cell_type": "code",
   "execution_count": 2,
   "metadata": {},
   "outputs": [],
   "source": [
    "import tweepy #https://github.com/tweepy/tweepy\n",
    "import csv\n",
    "import pandas as pd\n",
    "import os\n",
    "import matplotlib.pyplot as plt\n",
    "\n",
    "#Twitter API credentials\n",
    "consumer_key='6L537g5grVVV7qYaBA65TvWtr'\n",
    "consumer_secret='fBco2UHMlkD7WHiDMU2R9f4ZSlCUEnBWAFA8vUfnEQst5mj1OZ'\n",
    "access_key='875362759-cfuXuhiIhdhH3kpKMrL6zyKSJYYnetl4OanSs0K4'\n",
    "access_secret='CprxuIjjpoqMb48eDYPUq1Mmp7CHqNfJCobzISCADJUvy'\n",
    "\n",
    "auth = tweepy.OAuthHandler(consumer_key, consumer_secret)\n",
    "auth.set_access_token(access_key, access_secret)\n",
    "#api = tweepy.API(auth, wait_on_rate_limit=True, parser=tweepy.parsers.JSONParser())\n",
    "apis = tweepy.API(auth, wait_on_rate_limit=True)\n"
   ]
  },
  {
   "cell_type": "code",
   "execution_count": 4,
   "metadata": {},
   "outputs": [],
   "source": [
    "def getUserInfo(name):\n",
    "    \n",
    "    #applied list comprehension\n",
    "    tweets = [user.text for user in tweepy.Cursor(apis.user_timeline, screen_name=name, include_rts=False).items(500)]\n",
    "    \n",
    "    user = apis.get_user(name)\n",
    "    print('User: %s\\n'%user.name)\n",
    "    \n",
    "    if len(tweets) >= 20:\n",
    "        df = pd.DataFrame(columns=['Tweets','D','P','R','S','V'])\n",
    "        df['Tweets'] = tweets\n",
    "\n",
    "        cur_dir = os.getcwd()\n",
    "        json_dir = '..\\Keywords\\\\Cognitive'\n",
    "        os.chdir(json_dir)\n",
    "\n",
    "        files = os.listdir()\n",
    "        #print(files)\n",
    "\n",
    "        json = [0,1,2,3,4]\n",
    "        for index,file in enumerate(files):\n",
    "            json[index] = pd.read_json(file, typ='series')\n",
    "\n",
    "        os.chdir(cur_dir)\n",
    "\n",
    "        for value,file in enumerate(json):\n",
    "            for files in zip(file.keys(),file.values):\n",
    "                for index,tweets in enumerate(df.Tweets):\n",
    "                    if files[0].lower() in tweets.lower(): df.iloc[index, [value+1]] = files[1]\n",
    "\n",
    "\n",
    "        labels = df.iloc[:,1:6].sum()\n",
    "        print(labels)\n",
    "        total = labels.sum()\n",
    "\n",
    "\n",
    "        final_value = {}\n",
    "        for value in zip(labels.keys(),labels.values):\n",
    "            final_value[value[0]] = (value[1]/total) * 100\n",
    "        print(final_value)    \n",
    "        \n",
    "        \n",
    "\n",
    "        plt.pie(final_value.values(), labels=final_value.keys(), labeldistance=1.2)\n",
    "        plt.title('Pie Chart')\n",
    "        plt.show()\n",
    "\n",
    "        plt.bar(final_value.keys(), final_value.values(), align='center')\n",
    "        plt.title('Bar Chart')\n",
    "        plt.ylabel('Category')\n",
    "        plt.xlabel('Percentage')\n",
    "        plt.show()\n",
    "    \n",
    "    else:\n",
    "        print(\"Not much data to process.\")"
   ]
  },
  {
   "cell_type": "code",
   "execution_count": 1,
   "metadata": {},
   "outputs": [
    {
     "ename": "NameError",
     "evalue": "name 'tweepy' is not defined",
     "output_type": "error",
     "traceback": [
      "\u001b[1;31m---------------------------------------------------------------------------\u001b[0m",
      "\u001b[1;31mNameError\u001b[0m                                 Traceback (most recent call last)",
      "\u001b[1;32m<ipython-input-1-dc4060ea49dc>\u001b[0m in \u001b[0;36m<module>\u001b[1;34m\u001b[0m\n\u001b[0;32m      1\u001b[0m \u001b[0mname\u001b[0m\u001b[1;33m=\u001b[0m\u001b[1;34m'MaryamNSharif'\u001b[0m\u001b[1;33m\u001b[0m\u001b[1;33m\u001b[0m\u001b[0m\n\u001b[0;32m      2\u001b[0m \u001b[1;31m#applied list comprehension\u001b[0m\u001b[1;33m\u001b[0m\u001b[1;33m\u001b[0m\u001b[1;33m\u001b[0m\u001b[0m\n\u001b[1;32m----> 3\u001b[1;33m \u001b[0mtweets\u001b[0m \u001b[1;33m=\u001b[0m \u001b[1;33m[\u001b[0m\u001b[0muser\u001b[0m\u001b[1;33m.\u001b[0m\u001b[0mtext\u001b[0m \u001b[1;32mfor\u001b[0m \u001b[0muser\u001b[0m \u001b[1;32min\u001b[0m \u001b[0mtweepy\u001b[0m\u001b[1;33m.\u001b[0m\u001b[0mCursor\u001b[0m\u001b[1;33m(\u001b[0m\u001b[0mapis\u001b[0m\u001b[1;33m.\u001b[0m\u001b[0muser_timeline\u001b[0m\u001b[1;33m,\u001b[0m \u001b[0mscreen_name\u001b[0m\u001b[1;33m=\u001b[0m\u001b[0mname\u001b[0m\u001b[1;33m,\u001b[0m \u001b[0minclude_rts\u001b[0m\u001b[1;33m=\u001b[0m\u001b[1;32mFalse\u001b[0m\u001b[1;33m)\u001b[0m\u001b[1;33m.\u001b[0m\u001b[0mitems\u001b[0m\u001b[1;33m(\u001b[0m\u001b[1;36m1000\u001b[0m\u001b[1;33m)\u001b[0m\u001b[1;33m]\u001b[0m\u001b[1;33m\u001b[0m\u001b[1;33m\u001b[0m\u001b[0m\n\u001b[0m\u001b[0;32m      4\u001b[0m \u001b[1;33m\u001b[0m\u001b[0m\n\u001b[0;32m      5\u001b[0m \u001b[0muser\u001b[0m \u001b[1;33m=\u001b[0m \u001b[0mapis\u001b[0m\u001b[1;33m.\u001b[0m\u001b[0mget_user\u001b[0m\u001b[1;33m(\u001b[0m\u001b[0mname\u001b[0m\u001b[1;33m)\u001b[0m\u001b[1;33m\u001b[0m\u001b[1;33m\u001b[0m\u001b[0m\n",
      "\u001b[1;31mNameError\u001b[0m: name 'tweepy' is not defined"
     ]
    }
   ],
   "source": [
    "name='MaryamNSharif'\n",
    "#applied list comprehension\n",
    "tweets = [user.text for user in tweepy.Cursor(apis.user_timeline, screen_name=name, include_rts=False).items(1000)]\n",
    "\n",
    "user = apis.get_user(name)\n",
    "print('User: %s\\n'%user.name)\n",
    "print('Total Tweets: %s\\n'%len(tweets))\n",
    "\n",
    "if len(tweets) >= 30:\n",
    "    df = pd.DataFrame(columns=['Tweets','D','P','R','S','V'])\n",
    "    df['Tweets'] = tweets\n",
    "\n",
    "    cur_dir = os.getcwd()\n",
    "    json_dir = '..\\Keywords\\\\Cognitive'\n",
    "    os.chdir(json_dir)\n",
    "\n",
    "    files = os.listdir()\n",
    "    #print(files)\n",
    "\n",
    "    json = [0,1,2,3,4]\n",
    "    for index,file in enumerate(files):\n",
    "        json[index] = pd.read_json(file, typ='series')\n",
    "\n",
    "    os.chdir(cur_dir)\n",
    "\n",
    "    for value,file in enumerate(json):\n",
    "        for files in zip(file.keys(),file.values):\n",
    "            for index,tweets in enumerate(df.Tweets):\n",
    "                if files[0].lower() in tweets.lower(): df.iloc[index, [value+1]] = files[1]\n",
    "\n",
    "\n",
    "    labels = df.iloc[:,1:6].sum()\n",
    "    print(labels)\n",
    "    total = labels.sum()\n",
    "\n",
    "\n",
    "    final_value = {}\n",
    "    for value in zip(labels.keys(),labels.values):\n",
    "        final_value[value[0]] = (value[1]/total) * 100\n",
    "    print(final_value)    \n",
    "    \n",
    "\n",
    "\n",
    "    plt.pie(final_value.values(), labels=final_value.keys(), labeldistance=1.2)\n",
    "    plt.title('Pie Chart')\n",
    "    plt.show()\n",
    "\n",
    "    plt.bar(final_value.keys(), final_value.values(), align='center')\n",
    "    plt.title('Bar Chart')\n",
    "    plt.ylabel('Category')\n",
    "    plt.xlabel('Percentage')\n",
    "    plt.show()\n",
    "\n",
    "else:\n",
    "    print(\"Not much data to process.\")"
   ]
  },
  {
   "cell_type": "code",
   "execution_count": 7,
   "metadata": {},
   "outputs": [
    {
     "name": "stdout",
     "output_type": "stream",
     "text": [
      "User: Junaid Khanzada\n",
      "\n",
      "D    0.000000\n",
      "P    1.800000\n",
      "R    0.000000\n",
      "S    3.300000\n",
      "V    0.483486\n",
      "dtype: float64\n",
      "{'D': 0.0, 'P': 32.23792383042311, 'R': 0.0, 'S': 59.10286035577569, 'V': 8.659215813801199}\n"
     ]
    },
    {
     "data": {
      "image/png": "[encoded data removed]",
      "text/plain": [
       "<Figure size 432x288 with 1 Axes>"
      ]
     },
     "metadata": {},
     "output_type": "display_data"
    },
    {
     "data": {
      "image/png": "[encoded data removed]",
      "text/plain": [
       "<Figure size 432x288 with 1 Axes>"
      ]
     },
     "metadata": {
      "needs_background": "light"
     },
     "output_type": "display_data"
    }
   ],
   "source": [
    "getUserInfo('JunaeedKhanzada')"
   ]
  },
  {
   "cell_type": "code",
   "execution_count": null,
   "metadata": {},
   "outputs": [],
   "source": []
  },
  {
   "cell_type": "code",
   "execution_count": null,
   "metadata": {},
   "outputs": [],
   "source": []
  }
 ],
 "metadata": {
  "kernelspec": {
   "display_name": "Python 3",
   "language": "python",
   "name": "python3"
  },
  "language_info": {
   "codemirror_mode": {
    "name": "ipython",
    "version": 3
   },
   "file_extension": ".py",
   "mimetype": "text/x-python",
   "name": "python",
   "nbconvert_exporter": "python",
   "pygments_lexer": "ipython3",
   "version": "3.7.1"
  }
 },
 "nbformat": 4,
 "nbformat_minor": 2
}
