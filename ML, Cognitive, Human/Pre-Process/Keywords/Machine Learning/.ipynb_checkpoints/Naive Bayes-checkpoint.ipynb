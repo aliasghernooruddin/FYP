{
 "cells": [
  {
   "cell_type": "code",
   "execution_count": 2,
   "metadata": {},
   "outputs": [],
   "source": [
    "#import all libraries\n",
    "import os\n",
    "import pandas as pd\n",
    "import re\n",
    "import json\n",
    "from sklearn.metrics import accuracy_score,classification_report\n",
    "from sklearn.pipeline import Pipeline\n",
    "from sklearn.naive_bayes import MultinomialNB\n",
    "from sklearn.tree import DecisionTreeClassifier \n",
    "from sklearn.ensemble import RandomForestClassifier\n",
    "from sklearn.feature_extraction.text import CountVectorizer, TfidfTransformer\n",
    "from sklearn.model_selection import train_test_split"
   ]
  },
  {
   "cell_type": "code",
   "execution_count": 3,
   "metadata": {},
   "outputs": [],
   "source": [
    "#get to the directory where our excel file is stored\n",
    "cur_dir = os.getcwd()\n",
    "os.chdir('../../')\n",
    "os.chdir('Labelling')"
   ]
  },
  {
   "cell_type": "code",
   "execution_count": 4,
   "metadata": {},
   "outputs": [],
   "source": [
    "files = os.listdir()\n",
    "for file in files:\n",
    "    if 'xlsx' in file:\n",
    "        excel_file = file\n",
    "        break"
   ]
  },
  {
   "cell_type": "code",
   "execution_count": 5,
   "metadata": {},
   "outputs": [],
   "source": [
    "df = pd.read_excel(excel_file)\n",
    "\n",
    "#get to our main directory after reading excel files        \n",
    "os.chdir(cur_dir)"
   ]
  },
  {
   "cell_type": "code",
   "execution_count": 6,
   "metadata": {},
   "outputs": [],
   "source": [
    "#we just need label and tweets column i.e we remove other unused columns\n",
    "df = df[['Tweets','Label']]"
   ]
  },
  {
   "cell_type": "code",
   "execution_count": 7,
   "metadata": {},
   "outputs": [
    {
     "data": {
      "text/html": [
       "<div>\n",
       "<style scoped>\n",
       "    .dataframe tbody tr th:only-of-type {\n",
       "        vertical-align: middle;\n",
       "    }\n",
       "\n",
       "    .dataframe tbody tr th {\n",
       "        vertical-align: top;\n",
       "    }\n",
       "\n",
       "    .dataframe thead th {\n",
       "        text-align: right;\n",
       "    }\n",
       "</style>\n",
       "<table border=\"1\" class=\"dataframe\">\n",
       "  <thead>\n",
       "    <tr style=\"text-align: right;\">\n",
       "      <th></th>\n",
       "      <th>Tweets</th>\n",
       "      <th>Label</th>\n",
       "    </tr>\n",
       "  </thead>\n",
       "  <tbody>\n",
       "    <tr>\n",
       "      <th>0</th>\n",
       "      <td>yearn  taste history from  wine glass  natural...</td>\n",
       "      <td>D</td>\n",
       "    </tr>\n",
       "    <tr>\n",
       "      <th>1</th>\n",
       "      <td>georgia  winemakers   guardians  wine  oldest ...</td>\n",
       "      <td>D</td>\n",
       "    </tr>\n",
       "    <tr>\n",
       "      <th>2</th>\n",
       "      <td>psst have  plans   better  brighter  year    c...</td>\n",
       "      <td>P</td>\n",
       "    </tr>\n",
       "    <tr>\n",
       "      <th>3</th>\n",
       "      <td>banish whatever from  wish  leave behind    ...</td>\n",
       "      <td>V</td>\n",
       "    </tr>\n",
       "    <tr>\n",
       "      <th>4</th>\n",
       "      <td>with winter coming  like  lion  raise many  gl...</td>\n",
       "      <td>D</td>\n",
       "    </tr>\n",
       "  </tbody>\n",
       "</table>\n",
       "</div>"
      ],
      "text/plain": [
       "                                              Tweets Label\n",
       "0  yearn  taste history from  wine glass  natural...     D\n",
       "1  georgia  winemakers   guardians  wine  oldest ...     D\n",
       "2  psst have  plans   better  brighter  year    c...     P\n",
       "3    banish whatever from  wish  leave behind    ...     V\n",
       "4  with winter coming  like  lion  raise many  gl...     D"
      ]
     },
     "execution_count": 7,
     "metadata": {},
     "output_type": "execute_result"
    }
   ],
   "source": [
    "df.head()"
   ]
  },
  {
   "cell_type": "code",
   "execution_count": 8,
   "metadata": {},
   "outputs": [
    {
     "data": {
      "text/html": [
       "<div>\n",
       "<style scoped>\n",
       "    .dataframe tbody tr th:only-of-type {\n",
       "        vertical-align: middle;\n",
       "    }\n",
       "\n",
       "    .dataframe tbody tr th {\n",
       "        vertical-align: top;\n",
       "    }\n",
       "\n",
       "    .dataframe thead th {\n",
       "        text-align: right;\n",
       "    }\n",
       "</style>\n",
       "<table border=\"1\" class=\"dataframe\">\n",
       "  <thead>\n",
       "    <tr style=\"text-align: right;\">\n",
       "      <th></th>\n",
       "      <th>Tweets</th>\n",
       "    </tr>\n",
       "    <tr>\n",
       "      <th>Label</th>\n",
       "      <th></th>\n",
       "    </tr>\n",
       "  </thead>\n",
       "  <tbody>\n",
       "    <tr>\n",
       "      <th>D</th>\n",
       "      <td>6580</td>\n",
       "    </tr>\n",
       "    <tr>\n",
       "      <th>P</th>\n",
       "      <td>9277</td>\n",
       "    </tr>\n",
       "    <tr>\n",
       "      <th>R</th>\n",
       "      <td>4667</td>\n",
       "    </tr>\n",
       "    <tr>\n",
       "      <th>S</th>\n",
       "      <td>9258</td>\n",
       "    </tr>\n",
       "    <tr>\n",
       "      <th>V</th>\n",
       "      <td>3234</td>\n",
       "    </tr>\n",
       "  </tbody>\n",
       "</table>\n",
       "</div>"
      ],
      "text/plain": [
       "       Tweets\n",
       "Label        \n",
       "D        6580\n",
       "P        9277\n",
       "R        4667\n",
       "S        9258\n",
       "V        3234"
      ]
     },
     "execution_count": 8,
     "metadata": {},
     "output_type": "execute_result"
    }
   ],
   "source": [
    "#we get to know count of how many rows each label has\n",
    "df.groupby('Label').count()"
   ]
  },
  {
   "cell_type": "code",
   "execution_count": 21,
   "metadata": {},
   "outputs": [
    {
     "name": "stdout",
     "output_type": "stream",
     "text": [
      "Total Tweets: 33016\n"
     ]
    }
   ],
   "source": [
    "print(\"Total Tweets: {}\".format(int(df.groupby('Label').count().sum())))"
   ]
  },
  {
   "cell_type": "code",
   "execution_count": 22,
   "metadata": {
    "scrolled": true
   },
   "outputs": [
    {
     "name": "stdout",
     "output_type": "stream",
     "text": [
      "Model is being trained!!!\n",
      "Please Wait....\n",
      "Wall time: 919 ms\n",
      "-----DONE-----\n",
      "              precision    recall  f1-score   support\n",
      "\n",
      "           D     0.8153    0.8966    0.8540      1305\n",
      "           P     0.6831    0.9216    0.7847      1876\n",
      "           R     0.9454    0.3994    0.5615       954\n",
      "           S     0.7496    0.8571    0.7998      1813\n",
      "           V     0.9321    0.2302    0.3692       656\n",
      "\n",
      "   micro avg     0.7548    0.7548    0.7548      6604\n",
      "   macro avg     0.8251    0.6610    0.6738      6604\n",
      "weighted avg     0.7901    0.7548    0.7290      6604\n",
      "\n",
      "Accuracy: 0.7548455481526347\n"
     ]
    }
   ],
   "source": [
    "data = df['Tweets']\n",
    "labels = df['Label']\n",
    "\n",
    "naive_bayes = Pipeline([('vect', CountVectorizer()),\n",
    "                     ('tfidf', TfidfTransformer()),\n",
    "                     ('clf', MultinomialNB())])\n",
    "\n",
    "x_train, x_test, y_train, y_test = train_test_split(data, labels, test_size=0.2, random_state=42)\n",
    "\n",
    "print(\"Model is being trained!!!\")\n",
    "print(\"Please Wait....\")\n",
    "%time naive_bayes.fit(x_train, y_train)\n",
    "print(\"-----DONE-----\")\n",
    "print(classification_report(y_test, naive_bayes.predict(x_test), digits=4))\n",
    "y_pred = naive_bayes.predict(x_test)\n",
    "print(\"Accuracy:\",accuracy_score(y_test, y_pred))"
   ]
  },
  {
   "cell_type": "code",
   "execution_count": null,
   "metadata": {},
   "outputs": [
    {
     "name": "stdout",
     "output_type": "stream",
     "text": [
      "Model is being trained!!!\n",
      "Please Wait....\n"
     ]
    }
   ],
   "source": [
    "data = df['Tweets']\n",
    "labels = df['Label']\n",
    "\n",
    "x_train, x_test, y_train, y_test = train_test_split(data, labels, test_size=0.2, random_state=42)\n",
    "\n",
    "decision_tree = Pipeline([\n",
    "            ('vect', CountVectorizer( ngram_range=(2,4))),\n",
    "            ('tfidf', TfidfTransformer()),\n",
    "            ('clf', DecisionTreeClassifier(criterion='gini', splitter='best')),\n",
    "])\n",
    "\n",
    "\n",
    "print(\"Model is being trained!!!\")\n",
    "print(\"Please Wait....\")\n",
    "%time decision_tree.fit(x_train, y_train)\n",
    "print(\"-----DONE-----\")\n",
    "print(classification_report(y_test, decision_tree.predict(x_test), digits=4))\n",
    "y_pred = decision_tree.predict(x_test)\n",
    "print(\"Accuracy:\",accuracy_score(y_test, y_pred))"
   ]
  },
  {
   "cell_type": "code",
   "execution_count": null,
   "metadata": {},
   "outputs": [],
   "source": [
    "data = df['Tweets']\n",
    "labels = df['Label']\n",
    "\n",
    "x_train, x_test, y_train, y_test = train_test_split(data, labels, test_size=0.2, random_state=42)\n",
    "\n",
    "random_forrest = Pipeline([\n",
    "            ('vect', CountVectorizer( ngram_range=(2,4))),\n",
    "            ('tfidf', TfidfTransformer()),\n",
    "            ('clf', RandomForestClassifier(n_estimators=100,criterion='entropy'))\n",
    "            ])\n",
    "\n",
    "print(\"Model is being trained!!!\")\n",
    "print(\"Please Wait....\")\n",
    "%time random_forrest.fit(x_train, y_train)\n",
    "print(\"-----DONE-----\")\n",
    "print(classification_report(y_test, random_forrest.predict(x_test), digits=4))\n",
    "y_pred = random_forrest.predict(x_test)\n",
    "print(\"Accuracy:\",accuracy_score(y_test, y_pred))"
   ]
  }
 ],
 "metadata": {
  "kernelspec": {
   "display_name": "Python 3",
   "language": "python",
   "name": "python3"
  },
  "language_info": {
   "codemirror_mode": {
    "name": "ipython",
    "version": 3
   },
   "file_extension": ".py",
   "mimetype": "text/x-python",
   "name": "python",
   "nbconvert_exporter": "python",
   "pygments_lexer": "ipython3",
   "version": "3.7.1"
  }
 },
 "nbformat": 4,
 "nbformat_minor": 2
}
